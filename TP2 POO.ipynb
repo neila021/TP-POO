{
 "cells": [
  {
   "cell_type": "code",
   "execution_count": 3,
   "id": "6f90a33b",
   "metadata": {},
   "outputs": [
    {
     "name": "stdout",
     "output_type": "stream",
     "text": [
      "Les nombres divisible par 7 et non multiple de 5 sont [2002, 2009, 2016, 2023, 2037, 2044, 2051, 2058, 2072, 2079, 2086, 2093, 2107, 2114, 2121, 2128, 2142, 2149, 2156, 2163, 2177, 2184, 2191, 2198, 2212, 2219, 2226, 2233, 2247, 2254, 2261, 2268, 2282, 2289, 2296, 2303, 2317, 2324, 2331, 2338, 2352, 2359, 2366, 2373, 2387, 2394, 2401, 2408, 2422, 2429, 2436, 2443, 2457, 2464, 2471, 2478, 2492, 2499, 2506, 2513, 2527, 2534, 2541, 2548, 2562, 2569, 2576, 2583, 2597, 2604, 2611, 2618, 2632, 2639, 2646, 2653, 2667, 2674, 2681, 2688, 2702, 2709, 2716, 2723, 2737, 2744, 2751, 2758, 2772, 2779, 2786, 2793, 2807, 2814, 2821, 2828, 2842, 2849, 2856, 2863, 2877, 2884, 2891, 2898, 2912, 2919, 2926, 2933, 2947, 2954, 2961, 2968, 2982, 2989, 2996]\n"
     ]
    }
   ],
   "source": [
    "# Exercice 1\n",
    "\n",
    "Result=[]\n",
    "   \n",
    "for k in range(2000,3001):\n",
    "        if k % 7 == 0 and k % 5 != 0:\n",
    "           Result.append(k)\n",
    "    \n",
    "print(\"Les nombres divisible par 7 et non multiple de 5 sont\", Result)\n"
   ]
  },
  {
   "cell_type": "code",
   "execution_count": 1,
   "id": "1f525fc8",
   "metadata": {},
   "outputs": [
    {
     "name": "stdout",
     "output_type": "stream",
     "text": [
      "Enter a number 6\n",
      "La factorielle de 6 est 720\n"
     ]
    }
   ],
   "source": [
    "# Exercice 2 \n",
    "\n",
    "num = int(input(\"Enter a number \"))\n",
    "fact = 1\n",
    "\n",
    "\n",
    "if num < 0:\n",
    "    print(\"La factorielle d'un nombre negatif n'existe pas\")\n",
    "elif num == 0:\n",
    "    print(\"La factorielle de 0 est 1\")\n",
    "else : \n",
    "    for i in range(1,num+1):\n",
    "        fact = fact * i\n",
    "    print(\"La factorielle de\", num, \"est\", fact)"
   ]
  },
  {
   "cell_type": "code",
   "execution_count": 2,
   "id": "a1a5522d",
   "metadata": {},
   "outputs": [
    {
     "name": "stdout",
     "output_type": "stream",
     "text": [
      "Entrer un nombre entier n: 8\n",
      "{1: 1, 2: 4, 3: 9, 4: 16, 5: 25, 6: 36, 7: 49, 8: 64}\n"
     ]
    }
   ],
   "source": [
    "# Exercice 3 \n",
    "\n",
    "n=int(input(\"Entrer un nombre entier n: \"))\n",
    "\n",
    "Result={}\n",
    "\n",
    "\n",
    "for i in range(1,n+1):\n",
    "    Result[i]=i*i\n",
    "    \n",
    "\n",
    "print(Result)\n"
   ]
  },
  {
   "cell_type": "code",
   "execution_count": 53,
   "id": "0803aebd",
   "metadata": {},
   "outputs": [
    {
     "name": "stdout",
     "output_type": "stream",
     "text": [
      "ktten\n",
      "itten\n",
      "kittn\n"
     ]
    }
   ],
   "source": [
    "# Exercice 4\n",
    "\n",
    "def missing_char(chaine, n):\n",
    "\n",
    "   \n",
    "    if n >= 0 and n < len(chaine):\n",
    "         return chaine[:n] + chaine[n+1:]          \n",
    "    else:\n",
    "        return \"L'index fourni n'est pas valide.\"\n",
    "\n",
    "\n",
    "resultat1 = missing_char('kitten', 1)\n",
    "resultat2 = missing_char('kitten', 0)\n",
    "resultat3 = missing_char('kitten', 4)\n",
    "\n",
    "print(resultat1)  \n",
    "print(resultat2)  \n",
    "print(resultat3) \n",
    "\n",
    "        "
   ]
  },
  {
   "cell_type": "code",
   "execution_count": 3,
   "id": "bfac2844",
   "metadata": {},
   "outputs": [
    {
     "name": "stdout",
     "output_type": "stream",
     "text": [
      "Matrice de covariance des deux tableaux:  [[ 1. -1.]\n",
      " [-1.  1.]]\n"
     ]
    }
   ],
   "source": [
    "# Exercice 5\n",
    "\n",
    "import numpy as np\n",
    "\n",
    "\n",
    "tableau1 = np.array([0,1,2])\n",
    "tableau2 = np.array([2,1,0])\n",
    "\n",
    "\n",
    "matrice_covariance = np.cov(tableau1, tableau2)\n",
    "\n",
    "\n",
    "print(\"Matrice de covariance des deux tableaux: \", matrice_covariance)\n"
   ]
  },
  {
   "cell_type": "code",
   "execution_count": 4,
   "id": "18828cc8",
   "metadata": {},
   "outputs": [
    {
     "name": "stdout",
     "output_type": "stream",
     "text": [
      "Elements du tableau d'origine:  [[0 1]\n",
      " [2 3]\n",
      " [4 5]]\n",
      "Tableau a lister:  [[0, 1], [2, 3], [4, 5]]\n"
     ]
    }
   ],
   "source": [
    "# Exercice 6\n",
    " \n",
    "import numpy as np\n",
    "\n",
    "tableau = np.array([[0, 1], [2, 3], [4, 5]])\n",
    "\n",
    "liste_python = tableau.tolist()\n",
    "\n",
    "\n",
    "print(\"Elements du tableau d'origine: \", tableau)\n",
    "\n",
    "print(\"Tableau a lister: \", liste_python)"
   ]
  },
  {
   "cell_type": "code",
   "execution_count": null,
   "id": "1bfb138c",
   "metadata": {},
   "outputs": [],
   "source": []
  },
  {
   "cell_type": "code",
   "execution_count": null,
   "id": "df802231",
   "metadata": {},
   "outputs": [],
   "source": []
  }
 ],
 "metadata": {
  "kernelspec": {
   "display_name": "Python 3 (ipykernel)",
   "language": "python",
   "name": "python3"
  },
  "language_info": {
   "codemirror_mode": {
    "name": "ipython",
    "version": 3
   },
   "file_extension": ".py",
   "mimetype": "text/x-python",
   "name": "python",
   "nbconvert_exporter": "python",
   "pygments_lexer": "ipython3",
   "version": "3.11.5"
  }
 },
 "nbformat": 4,
 "nbformat_minor": 5
}
