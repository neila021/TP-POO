{
 "cells": [
  {
   "cell_type": "code",
   "execution_count": 1,
   "id": "7e661534",
   "metadata": {},
   "outputs": [
    {
     "name": "stdout",
     "output_type": "stream",
     "text": [
      "le num de compte est 12135\n",
      "le nom est sara clair\n",
      "le solde actuel est de 252000\n"
     ]
    }
   ],
   "source": [
    "# Exercice 1\n",
    "\n",
    "# On commence par la creation d'une classe nommee \"GestionCptb\" \n",
    "class GestionCptb :\n",
    "    def __init__(self,ncompte,nomclient,soldecompte): # Initialisation du constructeur\n",
    "        self.ncompte=ncompte                 # \"self\" indique que l'execution concerne l'objet en cours\n",
    "        self.nomclient=nomclient\n",
    "        self.soldecompte=soldecompte\n",
    "    def versement (self,somme_verse):     # Creation d'une methode de versement\n",
    "        self.soldecompte=self.soldecompte+somme_verse\n",
    "        return self.soldecompte\n",
    "    def retrait (self,somme_retrait):     # Creation d'une methode de retrait\n",
    "        if self.soldecompte>somme_retrait:\n",
    "            self.soldecompte=self.soldecompte-somme_retrait\n",
    "            self.soldecompte\n",
    "        else:\n",
    "            print(\"le solde actuel est insuffisant\")\n",
    "            \n",
    " # methode pour afficher les infos de l'utilisateur          \n",
    "    def affichageinfo(self):\n",
    "            print(\"le num de compte est\",self.ncompte)\n",
    "            print(\"le nom est\",self.nomclient)\n",
    "            print(\"le solde actuel est de\",self.soldecompte)\n",
    "\n",
    "# essai de la classee en creant un objet\n",
    "cptb1=GestionCptb(12135,\"sara clair\",250000)\n",
    "cptb1.versement(2000)\n",
    "cptb1.affichageinfo()\n"
   ]
  },
  {
   "cell_type": "code",
   "execution_count": 13,
   "id": "8834084e",
   "metadata": {},
   "outputs": [
    {
     "name": "stdout",
     "output_type": "stream",
     "text": [
      "L'aire du cerle est: 113.04\n",
      "Le perimetre du cercle: 37.68\n"
     ]
    }
   ],
   "source": [
    "# Exercice 2\n",
    "\n",
    "# Creation de la classe \"Circle\"\n",
    "\n",
    "class circle :\n",
    "    def __init__(self, rayon) :  # Initialisation du constructeur\n",
    "        self.rayon=rayon\n",
    "    def aire(self) :     # Creation de la methode aire\n",
    "        aire=self.rayon**2*3.14\n",
    "        print(\"L'aire du cerle est:\"+\" \"+str(aire))\n",
    "    def perimetre(self) :           # Creation de la methode perimetre\n",
    "        perimetre=2*3.14*self.rayon\n",
    "        print(\"Le perimetre du cercle:\",perimetre)\n",
    "        \n",
    "# Instantiation de la classe\n",
    "        \n",
    "circle1=circle(6)\n",
    "circle1.aire()\n",
    "circle1.perimetre()"
   ]
  },
  {
   "cell_type": "code",
   "execution_count": 3,
   "id": "0a6adc30",
   "metadata": {},
   "outputs": [
    {
     "name": "stdout",
     "output_type": "stream",
     "text": [
      "le perimetre du rectangle est: 28 m\n",
      "l'aire du rectangle est: 40 m²\n",
      "le volume du parallelepipede est: 42 m³\n"
     ]
    }
   ],
   "source": [
    "# Exercice 3\n",
    "\n",
    "# Creation de la classe mere permettant le calcul de l'aire et du perimetre d'un rectangle\n",
    "class rectangle :\n",
    "    def __init__(self, longueur, largeur):\n",
    "        self.longueur = longueur\n",
    "        self.largeur = largeur\n",
    "        \n",
    "# Creation de la methode perimetre\n",
    "    def perimetre (self):\n",
    "        print(\"le perimetre du rectangle est:\",(self.largeur+self.longueur)*2,\"m\")\n",
    "\n",
    "# Creation de la methode aire\n",
    "    def aire (self):\n",
    "        print(\"l'aire du rectangle est:\", self.longueur*self.largeur,\"m²\")\n",
    "\n",
    "# Creation de la classe fille permettant le calcul du volume d'un parallelepipede\n",
    "class parallelepipede(rectangle) :\n",
    "    def __init__(self, longueur, largeur, hauteur) :\n",
    "        rectangle.__init__(self, longueur, largeur)\n",
    "        self.hauteur = hauteur\n",
    "        \n",
    "# Creation de la methode volume\n",
    "    def volume (self) :\n",
    "        print(\"le volume du parallelepipede est:\", self.longueur*self.largeur*self.hauteur,\"m³\")\n",
    "\n",
    "\n",
    "# Instantiation de la classe      \n",
    "rec1=rectangle(10,4)\n",
    "rec1.perimetre()\n",
    "rec1.aire()\n",
    "\n",
    "prl1=parallelepipede(7,3,2)\n",
    "prl1.volume()"
   ]
  },
  {
   "cell_type": "code",
   "execution_count": 8,
   "id": "c0827428",
   "metadata": {},
   "outputs": [
    {
     "name": "stdout",
     "output_type": "stream",
     "text": [
      "fact de 3 est 6\n",
      "[1, 3]\n"
     ]
    },
    {
     "data": {
      "text/plain": [
       "True"
      ]
     },
     "execution_count": 8,
     "metadata": {},
     "output_type": "execute_result"
    }
   ],
   "source": [
    "# Exercice 4\n",
    "\n",
    "class calcul :\n",
    "    def __init__  (self, nombre):\n",
    "        self.nombre=nombre\n",
    "\n",
    "    def factorielle (self):   # Methode de calcul de la factorielle d'un nombre\n",
    "        fact = 1\n",
    "        if self.nombre < 0:\n",
    "            print(\"erreur\")\n",
    "        elif self.nombre == 0:\n",
    "            print(\"factorielle de 0 est 1\")\n",
    "        else:\n",
    "            for i in range(1, self.nombre + 1):\n",
    "                fact = fact * i\n",
    "            print(\"fact de\", self.nombre, \"est\", fact)\n",
    "            \n",
    "    def listediviseur (self):   # Methode pour stocker tous les diviseurs d'un nombre dans une liste\n",
    "        liste=[]\n",
    "        for i in range(1,self.nombre+1):\n",
    "            if self.nombre %i == 0:\n",
    "                liste.append(i)\n",
    "        print(liste)\n",
    "    \n",
    "    def nmbrpremier(self):    # Methode pour verifier si le nombre est premier\n",
    "        if self.nombre<=2:\n",
    "            return False\n",
    "        for i in range(2,self.nombre):\n",
    "            if self.nombre % i == 0:\n",
    "                return False\n",
    "        return True    \n",
    "        \n",
    "v=calcul(3)\n",
    "v.factorielle()\n",
    "v.listediviseur()\n",
    "v.nmbrpremier()"
   ]
  },
  {
   "cell_type": "code",
   "execution_count": null,
   "id": "f0ad92ca",
   "metadata": {},
   "outputs": [],
   "source": []
  }
 ],
 "metadata": {
  "kernelspec": {
   "display_name": "Python 3 (ipykernel)",
   "language": "python",
   "name": "python3"
  },
  "language_info": {
   "codemirror_mode": {
    "name": "ipython",
    "version": 3
   },
   "file_extension": ".py",
   "mimetype": "text/x-python",
   "name": "python",
   "nbconvert_exporter": "python",
   "pygments_lexer": "ipython3",
   "version": "3.11.5"
  }
 },
 "nbformat": 4,
 "nbformat_minor": 5
}
