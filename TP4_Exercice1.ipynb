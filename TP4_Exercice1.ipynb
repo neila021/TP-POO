{
 "cells": [
  {
   "cell_type": "code",
   "execution_count": 1,
   "id": "1f55610a",
   "metadata": {},
   "outputs": [
    {
     "name": "stdout",
     "output_type": "stream",
     "text": [
      "nom: mouloud ;ID: 40 ;prime: 1000 ;salaire: 500000 ;statut: employe\n",
      "nom: mouloud ;ID: 424788 ;prime: 1000 ;salaire: 500000 ;statut: ingenieur titulaire\n",
      "nom: neila ;ID: 8762001 ;prime: 1000 ;salaire: 500000 ;statut: ingenieur stagiaire\n",
      "nom: mouloud ;ID: 424788 ;prime: 1000 ;salaire: 500000 ;statut: technicien\n"
     ]
    }
   ],
   "source": [
    "# Exercice 1 : \n",
    "\n",
    "# creation de la classe mere\n",
    "class employe :\n",
    "    \n",
    "    def __init__(self,nom,ID,pin=500) :   # initiation du constructeur\n",
    "        self.nom=nom\n",
    "        self.ID=ID\n",
    "        self.pin=pin\n",
    "         \n",
    "    def calcul_prime(self,a) :   # creation d'une methode de calcul de la prime selon \"a\"\n",
    "        if a==True : \n",
    "            return self.pin*2\n",
    "        else :\n",
    "            return self.pin*0.5\n",
    "        \n",
    "    def salaire(self,prime) :    # creation d'une methode pour renvoyer le salaire de l'employe\n",
    "        return self.pin*prime\n",
    "    \n",
    "    def afficher(self,a) :    # creation d'une methode d'affichage\n",
    "        prime=self.calcul_prime(a)\n",
    "        salaire=self.salaire(prime)\n",
    "        print(\"nom:\",self.nom,\";ID:\",self.ID,\";prime:\",prime,\";salaire:\",salaire,\";statut: employe\")\n",
    "        \n",
    "# instantiation de la classe : \n",
    "\n",
    "e1=employe(\"mouloud\",40)  # creation d'objets\n",
    "e1.afficher(True)\n",
    "\n",
    "\n",
    "class ingenieur(employe) :  # creation d'une classe fille \"ingenieur\" a partir d'employe\n",
    "    def __init__(self,nom,ID,etat,pin=500) :\n",
    "        employe.__init__(self,nom,ID,pin=500)\n",
    "        self.etat=etat\n",
    "        \n",
    "    def surcharge_salaire(self,prime) :  # surcharge de la methode \"salaire\"\n",
    "        if self.etat==\"Stagiaire\":\n",
    "            return 4*self.pin*prime\n",
    "        else:\n",
    "            return 6*self.pin*prime\n",
    "        \n",
    "    def surcharge_afficher(self,a) : # surcharge de la methode \"affichage\"\n",
    "        prime=self.calcul_prime(a)\n",
    "        salaire=self.salaire(prime)\n",
    "        print(\"nom:\",self.nom,\";ID:\",self.ID,\";prime:\",prime,\";salaire:\",salaire,\";statut: ingenieur \"+self.etat)\n",
    "    \n",
    "\n",
    "# instantiation de la classe : \n",
    "i2=ingenieur(\"mouloud\",424788,\"titulaire\")\n",
    "i2.surcharge_afficher(True)\n",
    "i3=ingenieur(\"neila\",8762001,\"stagiaire\")\n",
    "i3.surcharge_afficher(True)\n",
    "\n",
    "class technicien(employe) :\n",
    "    def __init__(self,nom,ID,pin=500) :\n",
    "        employe.__init__(self,nom,ID,pin=500)\n",
    "        \n",
    "    def surcharge_salaire(self,prime):\n",
    "        return self.pin*2*prime\n",
    "        \n",
    "    def surcharge_afficher(self,a) :\n",
    "        prime=self.calcul_prime(a)\n",
    "        salaire=self.salaire(prime)\n",
    "        print(\"nom:\",self.nom,\";ID:\",self.ID,\";prime:\",prime,\";salaire:\",salaire,\";statut: technicien\")\n",
    "        \n",
    "t4=technicien(\"mouloud\",424788)\n",
    "t4.surcharge_afficher(True) "
   ]
  },
  {
   "cell_type": "code",
   "execution_count": null,
   "id": "dd148f4f",
   "metadata": {},
   "outputs": [],
   "source": []
  }
 ],
 "metadata": {
  "kernelspec": {
   "display_name": "Python 3 (ipykernel)",
   "language": "python",
   "name": "python3"
  },
  "language_info": {
   "codemirror_mode": {
    "name": "ipython",
    "version": 3
   },
   "file_extension": ".py",
   "mimetype": "text/x-python",
   "name": "python",
   "nbconvert_exporter": "python",
   "pygments_lexer": "ipython3",
   "version": "3.11.5"
  }
 },
 "nbformat": 4,
 "nbformat_minor": 5
}
