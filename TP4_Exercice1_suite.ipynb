{
 "cells": [
  {
   "cell_type": "code",
   "execution_count": 12,
   "id": "1d7ac3f0",
   "metadata": {},
   "outputs": [
    {
     "name": "stdout",
     "output_type": "stream",
     "text": [
      "nom: mouloud ;ID: 424788 ;prime: 250.0 ;salaire: 125000.0 ;statut: technicien\n",
      "nom: neila ;ID: 43552345 ;prime: 1000 ;salaire: 500000 ;statut: ingenieur titulaire\n"
     ]
    }
   ],
   "source": [
    "#import tout le contenu (*=all) du fichier \"exo1\" contenant les trois classes ainsi\n",
    "#que les methodes afficher\n",
    "from exo1 import*   #(#ou on importe : technicien, ingenieur)\n",
    "\n",
    "t4=technicien(\"mouloud\",424788)\n",
    "t4.surcharge_afficher(False) \n",
    "t5=ingenieur(\"neila\",43552345,\"titulaire\")\n",
    "t5.surcharge_afficher(True) "
   ]
  },
  {
   "cell_type": "code",
   "execution_count": null,
   "id": "cdd686db",
   "metadata": {},
   "outputs": [],
   "source": []
  },
  {
   "cell_type": "code",
   "execution_count": null,
   "id": "b454c1d6",
   "metadata": {},
   "outputs": [],
   "source": []
  }
 ],
 "metadata": {
  "kernelspec": {
   "display_name": "Python 3 (ipykernel)",
   "language": "python",
   "name": "python3"
  },
  "language_info": {
   "codemirror_mode": {
    "name": "ipython",
    "version": 3
   },
   "file_extension": ".py",
   "mimetype": "text/x-python",
   "name": "python",
   "nbconvert_exporter": "python",
   "pygments_lexer": "ipython3",
   "version": "3.11.5"
  }
 },
 "nbformat": 4,
 "nbformat_minor": 5
}
